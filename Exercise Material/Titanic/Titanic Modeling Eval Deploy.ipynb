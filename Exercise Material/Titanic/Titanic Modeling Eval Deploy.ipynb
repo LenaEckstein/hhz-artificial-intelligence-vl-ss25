{
 "cells": [
  {
   "cell_type": "markdown",
   "metadata": {},
   "source": [
    "# Titanic Modeling, Evaluation and Deployment"
   ]
  },
  {
   "cell_type": "markdown",
   "metadata": {},
   "source": [
    "## CRISP-DM"
   ]
  },
  {
   "cell_type": "code",
   "execution_count": null,
   "metadata": {
    "id": "05141d28-5d4d-4a30-8ddd-4e81be4aeec1"
   },
   "outputs": [],
   "source": [
    "from IPython import display\n",
    "display.Image('https://upload.wikimedia.org/wikipedia/commons/b/b9/CRISP-DM_Process_Diagram.png', width=500)"
   ]
  },
  {
   "cell_type": "markdown",
   "metadata": {},
   "source": [
    "## Import relevant packages"
   ]
  },
  {
   "cell_type": "code",
   "execution_count": null,
   "metadata": {
    "id": "ba32b1dc-0868-4b5f-9fd7-2e9c4ac7a257"
   },
   "outputs": [],
   "source": [
    "import numpy as np\n",
    "import pandas as pd\n",
    "import matplotlib.pyplot as plt\n",
    "import seaborn as sns\n",
    "sns.set()\n",
    "from sklearn.model_selection import train_test_split\n",
    "from sklearn.tree import DecisionTreeClassifier\n",
    "from sklearn import tree\n",
    "from sklearn.ensemble import RandomForestClassifier\n",
    "from sklearn.linear_model import LogisticRegression\n",
    "from sklearn import metrics\n",
    "from sklearn.metrics import confusion_matrix, classification_report"
   ]
  },
  {
   "cell_type": "markdown",
   "metadata": {},
   "source": [
    "## Load data and prepare for modeling"
   ]
  },
  {
   "cell_type": "markdown",
   "metadata": {},
   "source": [
    "Data preparation for modeling (including 'pd.get_dummies') has been performed in the previous notebook. Now, data are imported again and split into training and test. Models are built on training data only and, afterwards, evaluated on (previously unseen) test data. "
   ]
  },
  {
   "cell_type": "code",
   "execution_count": null,
   "metadata": {
    "id": "f39a1fce-d64f-4927-bb06-255132b0d907"
   },
   "outputs": [],
   "source": [
    "# Local\n",
    "df_dummies = pd.read_csv('train_dummies.csv') # use full path if notebook and file in different folders! \n",
    "\n",
    "df_dummies = pd.read_csv(body)"
   ]
  },
  {
   "cell_type": "code",
   "execution_count": null,
   "metadata": {
    "id": "e5e86c00-5fd4-4b02-86dd-adb9afb455fa"
   },
   "outputs": [],
   "source": [
    "df_dummies.head()"
   ]
  },
  {
   "cell_type": "code",
   "execution_count": null,
   "metadata": {
    "id": "d07a362a-5988-4067-a5f9-45d498f76de2"
   },
   "outputs": [],
   "source": [
    "target = df_dummies['Survived'] # feature to be predicted\n",
    "predictors = df_dummies.drop(['Survived'], axis = 1) # all other features are used as predictors"
   ]
  },
  {
   "cell_type": "code",
   "execution_count": null,
   "metadata": {
    "id": "cfe75cb5-1eb5-4f10-982d-b97a25c816d0"
   },
   "outputs": [],
   "source": [
    "predictors.head()"
   ]
  },
  {
   "cell_type": "code",
   "execution_count": null,
   "metadata": {
    "id": "4c0c7c4e-3f52-4339-be92-913382b6d83e"
   },
   "outputs": [],
   "source": [
    "X_train, X_test, y_train, y_test = train_test_split(predictors, target, test_size=0.2, random_state=123) # 80-20 split into training and test data"
   ]
  },
  {
   "cell_type": "code",
   "execution_count": null,
   "metadata": {
    "id": "7d6e7398-09aa-4034-9601-7f7925be14bc"
   },
   "outputs": [],
   "source": [
    "# Check data balancing\n",
    "y_train.value_counts()\n",
    "\n",
    "# There is no severe skew in the class distribution. No resampling needed. \n",
    "# If you want to learn more about resampling, also check https://machinelearningmastery.com/random-oversampling-and-undersampling-for-imbalanced-classification/"
   ]
  },
  {
   "cell_type": "markdown",
   "metadata": {},
   "source": [
    "## Create and evaluate classification models"
   ]
  },
  {
   "cell_type": "markdown",
   "metadata": {},
   "source": [
    "Predicting whether a pasenger on the Titanic survived or not is a supervised machine learning problem. Some commonly used algorithms include decision trees, random forest and logistic regression. Once a classification model has been built, evaluation metrics are calculated and interpreted. "
   ]
  },
  {
   "cell_type": "markdown",
   "metadata": {},
   "source": [
    "### Decision Tree"
   ]
  },
  {
   "cell_type": "code",
   "execution_count": null,
   "metadata": {
    "id": "1a10e292-95bb-4b7b-a784-415fa9d8acfb"
   },
   "outputs": [],
   "source": [
    "dt = DecisionTreeClassifier()\n",
    "dt.fit(X_train, y_train)"
   ]
  },
  {
   "cell_type": "code",
   "execution_count": null,
   "metadata": {
    "id": "dd0597d2-76fa-4ac3-aeac-4dd56f5c302d"
   },
   "outputs": [],
   "source": [
    "confusion_matrix(y_test, dt.predict(X_test)) # yields count of true negatives, false positives, false negatives, true positives"
   ]
  },
  {
   "cell_type": "code",
   "execution_count": null,
   "metadata": {
    "id": "d257e5c9-8bce-4101-9048-d188403ef946"
   },
   "outputs": [],
   "source": [
    "tn, fp, fn, tp = confusion_matrix(y_test, dt.predict(X_test)).ravel() # check that tp, fp, tn, fn are not confused\n",
    "print(tn, fp, fn, tp)"
   ]
  },
  {
   "cell_type": "code",
   "execution_count": null,
   "metadata": {
    "id": "a1929130-e712-4a29-9bf1-d29b61cf3fb5"
   },
   "outputs": [],
   "source": [
    "print(classification_report(y_train, dt.predict(X_train))) # yields class-specific precision, recall and f1-score"
   ]
  },
  {
   "cell_type": "code",
   "execution_count": null,
   "metadata": {
    "id": "33e0b0da-1d76-4e7c-a4f5-6e849f33685c"
   },
   "outputs": [],
   "source": [
    "print(classification_report(y_test, dt.predict(X_test)))"
   ]
  },
  {
   "cell_type": "markdown",
   "metadata": {},
   "source": [
    "Performance on test data is significantly lower than on training data. Probably the decision tree overfits on training data and does not generalize well on unseen test data. "
   ]
  },
  {
   "cell_type": "markdown",
   "metadata": {},
   "source": [
    "Let's have a look at the feature importance and tree structure. "
   ]
  },
  {
   "cell_type": "code",
   "execution_count": null,
   "metadata": {
    "id": "5384a82b-a081-45b4-ace3-0ca4b872c9c0"
   },
   "outputs": [],
   "source": [
    "list(zip(X_train.columns, dt.feature_importances_)) # lists features and their importance in predicting the target"
   ]
  },
  {
   "cell_type": "code",
   "execution_count": null,
   "metadata": {
    "id": "e3a520b0-710c-4323-aff7-486ff5e36a1b"
   },
   "outputs": [],
   "source": [
    "# plot the decision tree\n",
    "plt.figure(figsize=(30,24))  # set plot size (denoted in inches)\n",
    "tree.plot_tree(dt, fontsize=5, feature_names=predictors.columns.to_list())# set fontsize\n",
    "plt.show()\n",
    "# For better readability you can adjust the figsize and fontsize - or right click on tree --> Open image in new tab"
   ]
  },
  {
   "cell_type": "code",
   "execution_count": null,
   "metadata": {
    "id": "d4465ef8-052e-444b-b84a-be5429611a33"
   },
   "outputs": [],
   "source": [
    "# alternative \n",
    "print(tree.export_text(dt))"
   ]
  },
  {
   "cell_type": "markdown",
   "metadata": {},
   "source": [
    "### Random Forest"
   ]
  },
  {
   "cell_type": "code",
   "execution_count": null,
   "metadata": {
    "id": "c342cea9-6ab0-40f5-ad91-1a7d2401ebc1"
   },
   "outputs": [],
   "source": [
    "rf = RandomForestClassifier()\n",
    "rf.fit(X_train, y_train)"
   ]
  },
  {
   "cell_type": "code",
   "execution_count": null,
   "metadata": {
    "id": "ec08e9be-3060-490d-8d5b-2eff33fa73a1"
   },
   "outputs": [],
   "source": [
    "confusion_matrix(y_test, rf.predict(X_test))"
   ]
  },
  {
   "cell_type": "code",
   "execution_count": null,
   "metadata": {
    "id": "fdce6a58-e661-4aa4-9492-90671366e850"
   },
   "outputs": [],
   "source": [
    "print(classification_report(y_train, rf.predict(X_train)))"
   ]
  },
  {
   "cell_type": "code",
   "execution_count": null,
   "metadata": {
    "id": "80a0d68d-39e0-41c7-a1ea-5b3db0a39c31"
   },
   "outputs": [],
   "source": [
    "print(classification_report(y_test, rf.predict(X_test)))"
   ]
  },
  {
   "cell_type": "markdown",
   "metadata": {},
   "source": [
    "As before, test performance is lower than training performance. Random forests, too, can suffer from overfitting on training data. "
   ]
  },
  {
   "cell_type": "code",
   "execution_count": null,
   "metadata": {
    "id": "4da80b02-bd96-4e97-9ccf-8c2ea54236c1"
   },
   "outputs": [],
   "source": [
    "list(zip(X_train.columns, rf.feature_importances_))"
   ]
  },
  {
   "cell_type": "markdown",
   "metadata": {},
   "source": [
    "### Logistic Regression"
   ]
  },
  {
   "cell_type": "code",
   "execution_count": null,
   "metadata": {
    "id": "d1a4d507-4fdb-4621-8a29-2739f0269e0b"
   },
   "outputs": [],
   "source": [
    "logreg = LogisticRegression()\n",
    "logreg.fit(X_train, y_train)"
   ]
  },
  {
   "cell_type": "code",
   "execution_count": null,
   "metadata": {
    "id": "5d5cbf99-5a6b-468d-882c-c4572442ba57"
   },
   "outputs": [],
   "source": [
    "print(confusion_matrix(y_test, logreg.predict(X_test)))"
   ]
  },
  {
   "cell_type": "code",
   "execution_count": null,
   "metadata": {
    "id": "7cdc3c97-e3ea-46d3-b873-5cf5b9a7eb2b"
   },
   "outputs": [],
   "source": [
    "# nicer way to inspect confusion matrix\n",
    "conf_mat = confusion_matrix(y_test, logreg.predict(X_test))\n",
    "df_cm = pd.DataFrame(conf_mat, index=['0','1'], columns=['0', '1'],)\n",
    "fig = plt.figure(figsize=[10,7])\n",
    "heatmap = sns.heatmap(df_cm, annot=True, fmt=\"d\")\n",
    "heatmap.yaxis.set_ticklabels(heatmap.yaxis.get_ticklabels(), rotation=0, ha='right', fontsize=14)\n",
    "heatmap.xaxis.set_ticklabels(heatmap.xaxis.get_ticklabels(), rotation=45, ha='right', fontsize=14)\n",
    "plt.ylabel('True label')\n",
    "plt.xlabel('Predicted label')"
   ]
  },
  {
   "cell_type": "code",
   "execution_count": null,
   "metadata": {
    "id": "33acc3e0-eae4-4744-a70f-cb9f14556bd0"
   },
   "outputs": [],
   "source": [
    "print(classification_report(y_train, logreg.predict(X_train)))"
   ]
  },
  {
   "cell_type": "code",
   "execution_count": null,
   "metadata": {
    "id": "822a3f25-3fc7-4313-b0fb-ad6d595bdf32"
   },
   "outputs": [],
   "source": [
    "print(classification_report(y_test, logreg.predict(X_test)))"
   ]
  },
  {
   "cell_type": "markdown",
   "metadata": {},
   "source": [
    "For logistic regression, training and test performance are very similar. This probably means that the created model generalizes well on new data. "
   ]
  },
  {
   "cell_type": "markdown",
   "metadata": {},
   "source": [
    "### Building many models"
   ]
  },
  {
   "cell_type": "markdown",
   "metadata": {},
   "source": [
    "When building and comparing lots of models, it may be useful to loop over several classifiers or over one classifier with several parameters. An idea to overcome the overfitting problem with tree-based classifiers is to limit the depth of trees and inspect evaluation metrics."
   ]
  },
  {
   "cell_type": "code",
   "execution_count": null,
   "metadata": {
    "id": "afb2317e-b875-493e-8542-f3ca2212dd93"
   },
   "outputs": [],
   "source": [
    "# vary maximum tree depth for random forest\n",
    "tree_depth = [5, 10, 20]\n",
    "for i in tree_depth:\n",
    "    rf = RandomForestClassifier(max_depth=i)\n",
    "    rf.fit(X_train, y_train)\n",
    "    print('Max tree depth: ', i)\n",
    "    print('Train results: ', classification_report(y_train, rf.predict(X_train)))\n",
    "    print('Test results: ',classification_report(y_test, rf.predict(X_test)))"
   ]
  },
  {
   "cell_type": "markdown",
   "metadata": {},
   "source": [
    "Feel free to consider additional aspects if you are familiar with machine learning: You could check for class imbalance and mitigate this by oversampling training data. You could also try more classification algorithms like SVM. "
   ]
  },
  {
   "cell_type": "markdown",
   "metadata": {},
   "source": [
    "# Titanic Deployment (Demo)"
   ]
  },
  {
   "cell_type": "markdown",
   "metadata": {},
   "source": [
    "In this section you will learn how to deploy a scikit-learn model as a web service with the aid of the _IBM Watson Machine Learning Service_."
   ]
  },
  {
   "cell_type": "markdown",
   "metadata": {},
   "source": [
    "## Local Prediction"
   ]
  },
  {
   "cell_type": "markdown",
   "metadata": {},
   "source": [
    "First, choose the model to deploy and make a local prediction. Later, you will compare the predicted results returned by the local model with the results returned by the web service for evaluation purposes. "
   ]
  },
  {
   "cell_type": "code",
   "execution_count": null,
   "metadata": {
    "id": "30091f20-2995-4307-9a62-d3c9a914d157"
   },
   "outputs": [],
   "source": [
    "# assign your favorite model to the deployment_classifier variable\n",
    "deployment_classifier = logreg\n",
    "deployment_classifier"
   ]
  },
  {
   "cell_type": "code",
   "execution_count": null,
   "metadata": {
    "id": "fa6eaee4-2818-430e-bef4-517526fb5a65"
   },
   "outputs": [],
   "source": [
    "# recap: print first rows of training data\n",
    "df_dummies.head(2)"
   ]
  },
  {
   "cell_type": "code",
   "execution_count": null,
   "metadata": {
    "id": "f67d5a97-64eb-4325-9f55-21215955e5f7"
   },
   "outputs": [],
   "source": [
    "# recap: print first rows of predictors (here: training data without predicted column \"Survived\")\n",
    "predictors.head(2)"
   ]
  },
  {
   "cell_type": "code",
   "execution_count": null,
   "metadata": {
    "id": "7ab48363-a904-4949-b52e-82254ad66e25"
   },
   "outputs": [],
   "source": [
    "# use the local model to make a prediction for the first two passengers\n",
    "deployment_classifier.predict(predictors.iloc[0:2])"
   ]
  },
  {
   "cell_type": "markdown",
   "metadata": {},
   "source": [
    "Review the output. Did the model return a correct prediction for the \"Survived\" field?"
   ]
  },
  {
   "cell_type": "markdown",
   "metadata": {},
   "source": [
    "## Web service deployment"
   ]
  },
  {
   "cell_type": "markdown",
   "metadata": {},
   "source": [
    "To work through this section, you need\n",
    "- a Watson Machine Learning instance\n",
    "- an IBM Cloud API key\n",
    "- a deployment space id"
   ]
  },
  {
   "cell_type": "code",
   "execution_count": null,
   "metadata": {
    "id": "e929ed55-a52a-4964-aef0-2048949f96d5"
   },
   "outputs": [],
   "source": [
    "# import Python client library \n",
    "from ibm_watsonx_ai import APIClient"
   ]
  },
  {
   "cell_type": "code",
   "execution_count": null,
   "metadata": {
    "id": "7652ef72-0963-491e-a9bf-69b0371c7591"
   },
   "outputs": [],
   "source": [
    "# set your IBM Cloud API key \n",
    "api_key = \"...\"\n",
    "\n",
    "# set the URL of your WML instance \n",
    "# depending on the region you chose during instance creation it will take one of the below values:\n",
    "# - Frankfurt: https://eu-de.ml.cloud.ibm.com\n",
    "# - Dallas: https://us-south.ml.cloud.ibm.com\n",
    "# - London: https://eu-gb.ml.cloud.ibm.com\n",
    "# - Tokyo: https://jp-tok.ml.cloud.ibm.com\n",
    "wml_url = \"https://us-south.ml.cloud.ibm.com\""
   ]
  },
  {
   "cell_type": "code",
   "execution_count": null,
   "metadata": {
    "id": "258fde69-cbd7-4141-9c9d-92873a2afcf2"
   },
   "outputs": [],
   "source": [
    "# setup the API client\n",
    "wml_client = APIClient({\n",
    "   \"url\": wml_url,\n",
    "   \"apikey\": api_key\n",
    "})"
   ]
  },
  {
   "cell_type": "code",
   "execution_count": null,
   "metadata": {
    "id": "4c462751-4390-4c25-8509-3d389456a9bd"
   },
   "outputs": [],
   "source": [
    "# list all existing deployment spaces\n",
    "wml_client.spaces.list()"
   ]
  },
  {
   "cell_type": "code",
   "execution_count": null,
   "metadata": {
    "id": "b9e19dbe-9417-4197-b241-10c3e27b0cf5"
   },
   "outputs": [],
   "source": [
    "# set the id of the deployment space you want to use as default\n",
    "wml_client.set.default_space(\"...\")"
   ]
  },
  {
   "cell_type": "code",
   "execution_count": null,
   "metadata": {
    "id": "a661f367-9d80-430e-9bf9-7aff7a3ee397"
   },
   "outputs": [],
   "source": [
    "# setup required properties to store the model\n",
    "sofware_spec_uid = wml_client.software_specifications.get_id_by_name(\"runtime-24.1-py3.11\")\n",
    "metadata = {\n",
    "            wml_client.repository.ModelMetaNames.NAME: 'Titanic Model',\n",
    "            wml_client.repository.ModelMetaNames.TYPE: 'scikit-learn_1.3',\n",
    "            wml_client.repository.ModelMetaNames.SOFTWARE_SPEC_UID: sofware_spec_uid\n",
    "}\n",
    "metadata"
   ]
  },
  {
   "cell_type": "code",
   "execution_count": null,
   "metadata": {
    "id": "968b98b9-bf2a-4829-9d29-91b97bf2f229"
   },
   "outputs": [],
   "source": [
    "# store the scikit-learn model in WML\n",
    "model = wml_client.repository.store_model(deployment_classifier, meta_props=metadata)"
   ]
  },
  {
   "cell_type": "code",
   "execution_count": null,
   "metadata": {
    "id": "61598c0c-1998-4b9f-9bff-710988a53d6c"
   },
   "outputs": [],
   "source": [
    "# review available models in your WML instance\n",
    "wml_client.repository.list()"
   ]
  },
  {
   "cell_type": "code",
   "execution_count": null,
   "metadata": {
    "id": "01bec2db-2b5e-44cf-80ce-b408b752089a"
   },
   "outputs": [],
   "source": [
    "# retrieve the id of the model you deployed\n",
    "published_model_uid = wml_client.repository.get_model_id(model)\n",
    "published_model_uid"
   ]
  },
  {
   "cell_type": "code",
   "execution_count": null,
   "metadata": {
    "id": "22bf9927-9c6f-4062-a5f5-2ea419d781bf"
   },
   "outputs": [],
   "source": [
    "# setup required properties to deploy the model\n",
    "metadata = {\n",
    "    wml_client.deployments.ConfigurationMetaNames.NAME: \"Deployment of Titanic model\",\n",
    "    wml_client.deployments.ConfigurationMetaNames.ONLINE: {}\n",
    "}\n"
   ]
  },
  {
   "cell_type": "code",
   "execution_count": null,
   "metadata": {
    "id": "e9f1ae72-8d45-416a-8300-8bdd4142c201"
   },
   "outputs": [],
   "source": [
    "# deploy the model as a web service (an API endpoint is generated for your deployment so your tools and apps can use a REST API to send data to your deployed model for analysis)\n",
    "created_deployment = wml_client.deployments.create(published_model_uid, name=\"Titanic Deployment\", meta_props=metadata)"
   ]
  },
  {
   "cell_type": "code",
   "execution_count": null,
   "metadata": {
    "id": "35ee1cdb-c1ae-4ca6-9b67-9c1b2b774695"
   },
   "outputs": [],
   "source": [
    "# keep the REST API endpoint for evaluation\n",
    "scoring_endpoint = wml_client.deployments.get_scoring_href(created_deployment)\n",
    "scoring_endpoint"
   ]
  },
  {
   "cell_type": "markdown",
   "metadata": {},
   "source": [
    "Now check the deployment spaces UI (open the menu on the side menu, select \"View all spaces\" and navigate to the selected space).\n",
    "- Can you find your model and deployment?\n",
    "- Can you find code snippets to share with developers that will enable them to make predictions using your web service deployment?"
   ]
  },
  {
   "cell_type": "markdown",
   "metadata": {},
   "source": [
    "## Evaluate web service deployment"
   ]
  },
  {
   "cell_type": "markdown",
   "metadata": {},
   "source": [
    "You will now use the REST API (documentation available at https://cloud.ibm.com/apidocs/machine-learning#deployments-compute-predictions) to execute a prediction and compare its results against the local prediction from a previous section."
   ]
  },
  {
   "cell_type": "code",
   "execution_count": null,
   "metadata": {
    "id": "01dbc02d-adba-4e55-b232-882629b00401"
   },
   "outputs": [],
   "source": [
    "# import requests module\n",
    "import requests"
   ]
  },
  {
   "cell_type": "code",
   "execution_count": null,
   "metadata": {
    "id": "0f330ab6-075b-4a5d-86d1-48f0077fcb2a"
   },
   "outputs": [],
   "source": [
    "# setup the request payload as per the API documentation\n",
    "scoring_values = predictors.iloc[0:2].to_numpy().tolist()\n",
    "payload_scoring = {\"input_data\": [{\"values\": scoring_values}]}"
   ]
  },
  {
   "cell_type": "code",
   "execution_count": null,
   "metadata": {
    "id": "a8a4ee05-b7ca-4740-9fdf-dfdaa8e1d4ab"
   },
   "outputs": [],
   "source": [
    "# create a token to make an authenticated request\n",
    "token_response = requests.post('https://iam.eu-de.bluemix.net/identity/token', data={\"apikey\": api_key, \"grant_type\": 'urn:ibm:params:oauth:grant-type:apikey'})\n",
    "mltoken = token_response.json()[\"access_token\"]\n"
   ]
  },
  {
   "cell_type": "code",
   "execution_count": null,
   "metadata": {
    "id": "6f104060-e995-4a55-8ebb-5c5494a269d7"
   },
   "outputs": [],
   "source": [
    "# send the scoring request\n",
    "header = {'Content-Type': 'application/json', 'Authorization': 'Bearer ' + mltoken}\n",
    "response_scoring = requests.post(f'{scoring_endpoint}?version=2022-04-29', json=payload_scoring, headers={'Authorization': 'Bearer ' + mltoken})\n",
    "response_scoring.content"
   ]
  },
  {
   "cell_type": "markdown",
   "metadata": {},
   "source": [
    "- Do the results match the predictions executed in this notebook?\n",
    "- What information does the response payload include in addition to the classification?"
   ]
  },
  {
   "cell_type": "markdown",
   "metadata": {},
   "source": [
    "## Clean up"
   ]
  },
  {
   "cell_type": "markdown",
   "metadata": {},
   "source": [
    "Free WML instances only allow for a limited number of models and deployments. Let's clean up artefacts that are no longer needed."
   ]
  },
  {
   "cell_type": "code",
   "execution_count": null,
   "metadata": {
    "id": "0c86658c-e13f-4377-ac56-13e138b85d03"
   },
   "outputs": [],
   "source": [
    "# list deployments\n",
    "wml_client.deployments.list()"
   ]
  },
  {
   "cell_type": "code",
   "execution_count": null,
   "metadata": {
    "id": "589aad3a-4bd0-4e22-a910-83c6d1fe875d"
   },
   "outputs": [],
   "source": [
    "# delete deployments you just created \n",
    "wml_client.deployments.delete(\"...\")"
   ]
  },
  {
   "cell_type": "code",
   "execution_count": null,
   "metadata": {
    "id": "0cf890a1-9a3e-4546-ba4d-aa2eced0ceee"
   },
   "outputs": [],
   "source": [
    "# list models\n",
    "wml_client.repository.list_models()"
   ]
  },
  {
   "cell_type": "code",
   "execution_count": null,
   "metadata": {
    "id": "866561f9-dd79-49c9-bce8-fffe00c62f6c"
   },
   "outputs": [],
   "source": [
    "# delete models you just created\n",
    "wml_client.repository.delete(\"...\")"
   ]
  },
  {
   "cell_type": "code",
   "execution_count": null,
   "metadata": {
    "id": "1350a3e1-3f3e-42d8-954a-097b6763867f"
   },
   "outputs": [],
   "source": []
  }
 ],
 "metadata": {
  "kernelspec": {
   "display_name": "Python 3.11",
   "language": "python",
   "name": "python3"
  },
  "language_info": {
   "codemirror_mode": {
    "name": "ipython",
    "version": 3
   },
   "file_extension": ".py",
   "mimetype": "text/x-python",
   "name": "python",
   "nbconvert_exporter": "python",
   "pygments_lexer": "ipython3",
   "version": "3.11.9"
  }
 },
 "nbformat": 4,
 "nbformat_minor": 4
}
